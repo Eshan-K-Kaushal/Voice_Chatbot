{
  "nbformat": 4,
  "nbformat_minor": 0,
  "metadata": {
    "colab": {
      "name": "WOZ_Delivery_Consumer_Copy_1.ipynb",
      "provenance": [],
      "authorship_tag": "ABX9TyPJL34sSft9Ayeu3NUS828z",
      "include_colab_link": true
    },
    "kernelspec": {
      "name": "python3",
      "display_name": "Python 3"
    },
    "language_info": {
      "name": "python"
    },
    "accelerator": "GPU",
    "gpuClass": "standard"
  },
  "cells": [
    {
      "cell_type": "markdown",
      "metadata": {
        "id": "view-in-github",
        "colab_type": "text"
      },
      "source": [
        "<a href=\"https://colab.research.google.com/github/Eshan-K-Kaushal/Voice_Chatbot/blob/main/WOZ_Delivery_Consumer_Copy_1.ipynb\" target=\"_parent\"><img src=\"https://colab.research.google.com/assets/colab-badge.svg\" alt=\"Open In Colab\"/></a>"
      ]
    },
    {
      "cell_type": "code",
      "source": [
        "# NOTE:= Still have to figure out the displaying of videos on colab\n",
        "! git clone https://github.com/Eshan-K-Kaushal/Voice_Chatbot"
      ],
      "metadata": {
        "id": "U9xr0rv7jfR9"
      },
      "execution_count": null,
      "outputs": []
    },
    {
      "cell_type": "code",
      "source": [
        "\n",
        "!pip install nltk\n",
        "!pip install docx2txt\n",
        "!pip install ffpyplayer\n",
        "!pip install transformers\n",
        "# run code A\n",
        "!python /content/Voice_Chatbot/Cleaned_Code/WOZ_Classes_A.py\n",
        "# run code B\n",
        "!python /content/Voice_Chatbot/Cleaned_Code/WOZ_Replies_B.py"
      ],
      "metadata": {
        "id": "zXUUXG1ujl9f"
      },
      "execution_count": null,
      "outputs": []
    }
  ]
}