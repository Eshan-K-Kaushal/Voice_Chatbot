{
  "nbformat": 4,
  "nbformat_minor": 0,
  "metadata": {
    "colab": {
      "name": "WOZ_Delivery_Consumer_Copy_1.ipynb",
      "provenance": [],
      "authorship_tag": "ABX9TyOu34i4BTykCG+7V7ZRgNCM",
      "include_colab_link": true
    },
    "kernelspec": {
      "name": "python3",
      "display_name": "Python 3"
    },
    "language_info": {
      "name": "python"
    },
    "accelerator": "GPU",
    "gpuClass": "standard"
  },
  "cells": [
    {
      "cell_type": "markdown",
      "metadata": {
        "id": "view-in-github",
        "colab_type": "text"
      },
      "source": [
        "<a href=\"https://colab.research.google.com/github/Eshan-K-Kaushal/Voice_Chatbot/blob/main/WOZ_Delivery_Consumer_Copy_1.ipynb\" target=\"_parent\"><img src=\"https://colab.research.google.com/assets/colab-badge.svg\" alt=\"Open In Colab\"/></a>"
      ]
    },
    {
      "cell_type": "code",
      "source": [
        "# NOTE:= Still have to figure out the displaying of videos on colab\n",
        "! git clone https://github.com/Eshan-K-Kaushal/Voice_Chatbot"
      ],
      "metadata": {
        "id": "U9xr0rv7jfR9",
        "colab": {
          "base_uri": "https://localhost:8080/"
        },
        "outputId": "2eff89a5-f3eb-4bcd-deed-3241128eb479"
      },
      "execution_count": null,
      "outputs": [
        {
          "output_type": "stream",
          "name": "stdout",
          "text": [
            "Cloning into 'Voice_Chatbot'...\n",
            "remote: Enumerating objects: 189, done.\u001b[K\n",
            "remote: Counting objects: 100% (88/88), done.\u001b[K\n",
            "remote: Compressing objects: 100% (42/42), done.\u001b[K\n",
            "remote: Total 189 (delta 44), reused 88 (delta 44), pack-reused 101\u001b[K\n",
            "Receiving objects: 100% (189/189), 50.53 MiB | 26.88 MiB/s, done.\n",
            "Resolving deltas: 100% (78/78), done.\n",
            "Checking out files: 100% (60/60), done.\n"
          ]
        }
      ]
    },
    {
      "cell_type": "code",
      "source": [
        "\n",
        "!pip install nltk\n",
        "!pip install docx2txt\n",
        "!pip install ffpyplayer\n",
        "!pip install transformers\n",
        "# run code A\n",
        "!python /content/Voice_Chatbot/Cleaned_Code/WOZ_Classes_A.py\n",
        "# run code B\n",
        "!python /content/Voice_Chatbot/Cleaned_Code/WOZ_Replies_B.py"
      ],
      "metadata": {
        "id": "zXUUXG1ujl9f"
      },
      "execution_count": null,
      "outputs": []
    },
    {
      "cell_type": "code",
      "source": [
        "# an example of code to return an HTML Object to get a video output from the videos:\n",
        "from IPython.display import HTML\n",
        "from base64 import b64encode\n",
        " \n",
        "def show_video(video_path, video_width = 600):\n",
        "   \n",
        "  video_file = open(video_path, \"r+b\").read()\n",
        " \n",
        "  video_url = f\"data:video/mp4;base64,{b64encode(video_file).decode()}\"\n",
        "  return HTML(f\"\"\"<video width={video_width} controls><source src=\"{video_url}\"></video>\"\"\")\n",
        " \n",
        "show_video(video_path)"
      ],
      "metadata": {
        "id": "g6OTOzYp3LHl"
      },
      "execution_count": null,
      "outputs": []
    }
  ]
}