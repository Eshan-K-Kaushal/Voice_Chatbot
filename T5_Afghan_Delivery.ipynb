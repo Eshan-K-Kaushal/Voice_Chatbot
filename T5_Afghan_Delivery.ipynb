{
  "nbformat": 4,
  "nbformat_minor": 0,
  "metadata": {
    "colab": {
      "provenance": [],
      "authorship_tag": "ABX9TyOsAPORdbkglW4CFtLqQX1G",
      "include_colab_link": true
    },
    "kernelspec": {
      "name": "python3",
      "display_name": "Python 3"
    },
    "language_info": {
      "name": "python"
    }
  },
  "cells": [
    {
      "cell_type": "markdown",
      "metadata": {
        "id": "view-in-github",
        "colab_type": "text"
      },
      "source": [
        "<a href=\"https://colab.research.google.com/github/Eshan-K-Kaushal/Voice_Chatbot/blob/main/T5_Afghan_Delivery.ipynb\" target=\"_parent\"><img src=\"https://colab.research.google.com/assets/colab-badge.svg\" alt=\"Open In Colab\"/></a>"
      ]
    },
    {
      "cell_type": "code",
      "execution_count": null,
      "metadata": {
        "id": "qoKjbSHhQ03U"
      },
      "outputs": [],
      "source": [
        "# NOTE:= Still have to figure out the displaying of videos on colab\n",
        "! git clone https://github.com/Eshan-K-Kaushal/Voice_Chatbot"
      ]
    },
    {
      "cell_type": "code",
      "source": [
        "# run code\n",
        "!python /content/Voice_Chatbot/T5_Afghan/T5_FT_USE.py"
      ],
      "metadata": {
        "id": "ugHD2VKGQ9mf"
      },
      "execution_count": null,
      "outputs": []
    }
  ]
}