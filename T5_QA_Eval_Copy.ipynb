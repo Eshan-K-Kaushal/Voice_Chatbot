{
  "nbformat": 4,
  "nbformat_minor": 0,
  "metadata": {
    "colab": {
      "provenance": [],
      "include_colab_link": true
    },
    "kernelspec": {
      "name": "python3",
      "display_name": "Python 3"
    },
    "language_info": {
      "name": "python"
    },
    "accelerator": "GPU",
    "gpuClass": "standard",
    "widgets": {
      "application/vnd.jupyter.widget-state+json": {
        "70209752c2ad43d4923ca4732c9798a7": {
          "model_module": "@jupyter-widgets/controls",
          "model_name": "HBoxModel",
          "model_module_version": "1.5.0",
          "state": {
            "_dom_classes": [],
            "_model_module": "@jupyter-widgets/controls",
            "_model_module_version": "1.5.0",
            "_model_name": "HBoxModel",
            "_view_count": null,
            "_view_module": "@jupyter-widgets/controls",
            "_view_module_version": "1.5.0",
            "_view_name": "HBoxView",
            "box_style": "",
            "children": [
              "IPY_MODEL_5e674510ee7d4c7298b175c6c5404eb0",
              "IPY_MODEL_abe44c954a6a4df7b1008428f36504c1",
              "IPY_MODEL_ba062da1cf4f4ff7abb4ae7822fc6e66"
            ],
            "layout": "IPY_MODEL_38fcb4ded52c4025889c8e2e4be7ce53"
          }
        },
        "5e674510ee7d4c7298b175c6c5404eb0": {
          "model_module": "@jupyter-widgets/controls",
          "model_name": "HTMLModel",
          "model_module_version": "1.5.0",
          "state": {
            "_dom_classes": [],
            "_model_module": "@jupyter-widgets/controls",
            "_model_module_version": "1.5.0",
            "_model_name": "HTMLModel",
            "_view_count": null,
            "_view_module": "@jupyter-widgets/controls",
            "_view_module_version": "1.5.0",
            "_view_name": "HTMLView",
            "description": "",
            "description_tooltip": null,
            "layout": "IPY_MODEL_c67c2ba452234ea8802d022aa6955a3b",
            "placeholder": "​",
            "style": "IPY_MODEL_7d64bc3f0074485bb6ff9165b7ab1fe4",
            "value": "Downloading: 100%"
          }
        },
        "abe44c954a6a4df7b1008428f36504c1": {
          "model_module": "@jupyter-widgets/controls",
          "model_name": "FloatProgressModel",
          "model_module_version": "1.5.0",
          "state": {
            "_dom_classes": [],
            "_model_module": "@jupyter-widgets/controls",
            "_model_module_version": "1.5.0",
            "_model_name": "FloatProgressModel",
            "_view_count": null,
            "_view_module": "@jupyter-widgets/controls",
            "_view_module_version": "1.5.0",
            "_view_name": "ProgressView",
            "bar_style": "success",
            "description": "",
            "description_tooltip": null,
            "layout": "IPY_MODEL_c68dbfd83bf247b8bbef29422a1937b5",
            "max": 791656,
            "min": 0,
            "orientation": "horizontal",
            "style": "IPY_MODEL_585d46c5145b421bbf3a26a5b3a8dabd",
            "value": 791656
          }
        },
        "ba062da1cf4f4ff7abb4ae7822fc6e66": {
          "model_module": "@jupyter-widgets/controls",
          "model_name": "HTMLModel",
          "model_module_version": "1.5.0",
          "state": {
            "_dom_classes": [],
            "_model_module": "@jupyter-widgets/controls",
            "_model_module_version": "1.5.0",
            "_model_name": "HTMLModel",
            "_view_count": null,
            "_view_module": "@jupyter-widgets/controls",
            "_view_module_version": "1.5.0",
            "_view_name": "HTMLView",
            "description": "",
            "description_tooltip": null,
            "layout": "IPY_MODEL_45e81725f4d345309d0dbac3b13509e6",
            "placeholder": "​",
            "style": "IPY_MODEL_b0ff6a921acd4476bf5e277e803ffb53",
            "value": " 773k/773k [00:00&lt;00:00, 1.90MB/s]"
          }
        },
        "38fcb4ded52c4025889c8e2e4be7ce53": {
          "model_module": "@jupyter-widgets/base",
          "model_name": "LayoutModel",
          "model_module_version": "1.2.0",
          "state": {
            "_model_module": "@jupyter-widgets/base",
            "_model_module_version": "1.2.0",
            "_model_name": "LayoutModel",
            "_view_count": null,
            "_view_module": "@jupyter-widgets/base",
            "_view_module_version": "1.2.0",
            "_view_name": "LayoutView",
            "align_content": null,
            "align_items": null,
            "align_self": null,
            "border": null,
            "bottom": null,
            "display": null,
            "flex": null,
            "flex_flow": null,
            "grid_area": null,
            "grid_auto_columns": null,
            "grid_auto_flow": null,
            "grid_auto_rows": null,
            "grid_column": null,
            "grid_gap": null,
            "grid_row": null,
            "grid_template_areas": null,
            "grid_template_columns": null,
            "grid_template_rows": null,
            "height": null,
            "justify_content": null,
            "justify_items": null,
            "left": null,
            "margin": null,
            "max_height": null,
            "max_width": null,
            "min_height": null,
            "min_width": null,
            "object_fit": null,
            "object_position": null,
            "order": null,
            "overflow": null,
            "overflow_x": null,
            "overflow_y": null,
            "padding": null,
            "right": null,
            "top": null,
            "visibility": null,
            "width": null
          }
        },
        "c67c2ba452234ea8802d022aa6955a3b": {
          "model_module": "@jupyter-widgets/base",
          "model_name": "LayoutModel",
          "model_module_version": "1.2.0",
          "state": {
            "_model_module": "@jupyter-widgets/base",
            "_model_module_version": "1.2.0",
            "_model_name": "LayoutModel",
            "_view_count": null,
            "_view_module": "@jupyter-widgets/base",
            "_view_module_version": "1.2.0",
            "_view_name": "LayoutView",
            "align_content": null,
            "align_items": null,
            "align_self": null,
            "border": null,
            "bottom": null,
            "display": null,
            "flex": null,
            "flex_flow": null,
            "grid_area": null,
            "grid_auto_columns": null,
            "grid_auto_flow": null,
            "grid_auto_rows": null,
            "grid_column": null,
            "grid_gap": null,
            "grid_row": null,
            "grid_template_areas": null,
            "grid_template_columns": null,
            "grid_template_rows": null,
            "height": null,
            "justify_content": null,
            "justify_items": null,
            "left": null,
            "margin": null,
            "max_height": null,
            "max_width": null,
            "min_height": null,
            "min_width": null,
            "object_fit": null,
            "object_position": null,
            "order": null,
            "overflow": null,
            "overflow_x": null,
            "overflow_y": null,
            "padding": null,
            "right": null,
            "top": null,
            "visibility": null,
            "width": null
          }
        },
        "7d64bc3f0074485bb6ff9165b7ab1fe4": {
          "model_module": "@jupyter-widgets/controls",
          "model_name": "DescriptionStyleModel",
          "model_module_version": "1.5.0",
          "state": {
            "_model_module": "@jupyter-widgets/controls",
            "_model_module_version": "1.5.0",
            "_model_name": "DescriptionStyleModel",
            "_view_count": null,
            "_view_module": "@jupyter-widgets/base",
            "_view_module_version": "1.2.0",
            "_view_name": "StyleView",
            "description_width": ""
          }
        },
        "c68dbfd83bf247b8bbef29422a1937b5": {
          "model_module": "@jupyter-widgets/base",
          "model_name": "LayoutModel",
          "model_module_version": "1.2.0",
          "state": {
            "_model_module": "@jupyter-widgets/base",
            "_model_module_version": "1.2.0",
            "_model_name": "LayoutModel",
            "_view_count": null,
            "_view_module": "@jupyter-widgets/base",
            "_view_module_version": "1.2.0",
            "_view_name": "LayoutView",
            "align_content": null,
            "align_items": null,
            "align_self": null,
            "border": null,
            "bottom": null,
            "display": null,
            "flex": null,
            "flex_flow": null,
            "grid_area": null,
            "grid_auto_columns": null,
            "grid_auto_flow": null,
            "grid_auto_rows": null,
            "grid_column": null,
            "grid_gap": null,
            "grid_row": null,
            "grid_template_areas": null,
            "grid_template_columns": null,
            "grid_template_rows": null,
            "height": null,
            "justify_content": null,
            "justify_items": null,
            "left": null,
            "margin": null,
            "max_height": null,
            "max_width": null,
            "min_height": null,
            "min_width": null,
            "object_fit": null,
            "object_position": null,
            "order": null,
            "overflow": null,
            "overflow_x": null,
            "overflow_y": null,
            "padding": null,
            "right": null,
            "top": null,
            "visibility": null,
            "width": null
          }
        },
        "585d46c5145b421bbf3a26a5b3a8dabd": {
          "model_module": "@jupyter-widgets/controls",
          "model_name": "ProgressStyleModel",
          "model_module_version": "1.5.0",
          "state": {
            "_model_module": "@jupyter-widgets/controls",
            "_model_module_version": "1.5.0",
            "_model_name": "ProgressStyleModel",
            "_view_count": null,
            "_view_module": "@jupyter-widgets/base",
            "_view_module_version": "1.2.0",
            "_view_name": "StyleView",
            "bar_color": null,
            "description_width": ""
          }
        },
        "45e81725f4d345309d0dbac3b13509e6": {
          "model_module": "@jupyter-widgets/base",
          "model_name": "LayoutModel",
          "model_module_version": "1.2.0",
          "state": {
            "_model_module": "@jupyter-widgets/base",
            "_model_module_version": "1.2.0",
            "_model_name": "LayoutModel",
            "_view_count": null,
            "_view_module": "@jupyter-widgets/base",
            "_view_module_version": "1.2.0",
            "_view_name": "LayoutView",
            "align_content": null,
            "align_items": null,
            "align_self": null,
            "border": null,
            "bottom": null,
            "display": null,
            "flex": null,
            "flex_flow": null,
            "grid_area": null,
            "grid_auto_columns": null,
            "grid_auto_flow": null,
            "grid_auto_rows": null,
            "grid_column": null,
            "grid_gap": null,
            "grid_row": null,
            "grid_template_areas": null,
            "grid_template_columns": null,
            "grid_template_rows": null,
            "height": null,
            "justify_content": null,
            "justify_items": null,
            "left": null,
            "margin": null,
            "max_height": null,
            "max_width": null,
            "min_height": null,
            "min_width": null,
            "object_fit": null,
            "object_position": null,
            "order": null,
            "overflow": null,
            "overflow_x": null,
            "overflow_y": null,
            "padding": null,
            "right": null,
            "top": null,
            "visibility": null,
            "width": null
          }
        },
        "b0ff6a921acd4476bf5e277e803ffb53": {
          "model_module": "@jupyter-widgets/controls",
          "model_name": "DescriptionStyleModel",
          "model_module_version": "1.5.0",
          "state": {
            "_model_module": "@jupyter-widgets/controls",
            "_model_module_version": "1.5.0",
            "_model_name": "DescriptionStyleModel",
            "_view_count": null,
            "_view_module": "@jupyter-widgets/base",
            "_view_module_version": "1.2.0",
            "_view_name": "StyleView",
            "description_width": ""
          }
        },
        "f0c1ce081ed240f488cded163a77da07": {
          "model_module": "@jupyter-widgets/controls",
          "model_name": "HBoxModel",
          "model_module_version": "1.5.0",
          "state": {
            "_dom_classes": [],
            "_model_module": "@jupyter-widgets/controls",
            "_model_module_version": "1.5.0",
            "_model_name": "HBoxModel",
            "_view_count": null,
            "_view_module": "@jupyter-widgets/controls",
            "_view_module_version": "1.5.0",
            "_view_name": "HBoxView",
            "box_style": "",
            "children": [
              "IPY_MODEL_430597840a8845208ff8e3bbbcdab144",
              "IPY_MODEL_2f3ff9b214d546389db1266e23ee0cec",
              "IPY_MODEL_8b7e022857f74370bb83e0465325c491"
            ],
            "layout": "IPY_MODEL_41c79a4f60194fea9942a8fb5152a900"
          }
        },
        "430597840a8845208ff8e3bbbcdab144": {
          "model_module": "@jupyter-widgets/controls",
          "model_name": "HTMLModel",
          "model_module_version": "1.5.0",
          "state": {
            "_dom_classes": [],
            "_model_module": "@jupyter-widgets/controls",
            "_model_module_version": "1.5.0",
            "_model_name": "HTMLModel",
            "_view_count": null,
            "_view_module": "@jupyter-widgets/controls",
            "_view_module_version": "1.5.0",
            "_view_name": "HTMLView",
            "description": "",
            "description_tooltip": null,
            "layout": "IPY_MODEL_ba3375efee2b4935965116d899e3ae51",
            "placeholder": "​",
            "style": "IPY_MODEL_18c06f33980f4623a1d82bfdb248f072",
            "value": "Downloading: 100%"
          }
        },
        "2f3ff9b214d546389db1266e23ee0cec": {
          "model_module": "@jupyter-widgets/controls",
          "model_name": "FloatProgressModel",
          "model_module_version": "1.5.0",
          "state": {
            "_dom_classes": [],
            "_model_module": "@jupyter-widgets/controls",
            "_model_module_version": "1.5.0",
            "_model_name": "FloatProgressModel",
            "_view_count": null,
            "_view_module": "@jupyter-widgets/controls",
            "_view_module_version": "1.5.0",
            "_view_name": "ProgressView",
            "bar_style": "success",
            "description": "",
            "description_tooltip": null,
            "layout": "IPY_MODEL_3dd604ebc0534cbeb0e2c5bab9c9db3f",
            "max": 1389353,
            "min": 0,
            "orientation": "horizontal",
            "style": "IPY_MODEL_168a15651b8245f2a712b91870982896",
            "value": 1389353
          }
        },
        "8b7e022857f74370bb83e0465325c491": {
          "model_module": "@jupyter-widgets/controls",
          "model_name": "HTMLModel",
          "model_module_version": "1.5.0",
          "state": {
            "_dom_classes": [],
            "_model_module": "@jupyter-widgets/controls",
            "_model_module_version": "1.5.0",
            "_model_name": "HTMLModel",
            "_view_count": null,
            "_view_module": "@jupyter-widgets/controls",
            "_view_module_version": "1.5.0",
            "_view_name": "HTMLView",
            "description": "",
            "description_tooltip": null,
            "layout": "IPY_MODEL_9f521d474eb44ed88c4e9a50187d8b8c",
            "placeholder": "​",
            "style": "IPY_MODEL_9f3c4c8ada204ec2906389270af24708",
            "value": " 1.32M/1.32M [00:00&lt;00:00, 2.13MB/s]"
          }
        },
        "41c79a4f60194fea9942a8fb5152a900": {
          "model_module": "@jupyter-widgets/base",
          "model_name": "LayoutModel",
          "model_module_version": "1.2.0",
          "state": {
            "_model_module": "@jupyter-widgets/base",
            "_model_module_version": "1.2.0",
            "_model_name": "LayoutModel",
            "_view_count": null,
            "_view_module": "@jupyter-widgets/base",
            "_view_module_version": "1.2.0",
            "_view_name": "LayoutView",
            "align_content": null,
            "align_items": null,
            "align_self": null,
            "border": null,
            "bottom": null,
            "display": null,
            "flex": null,
            "flex_flow": null,
            "grid_area": null,
            "grid_auto_columns": null,
            "grid_auto_flow": null,
            "grid_auto_rows": null,
            "grid_column": null,
            "grid_gap": null,
            "grid_row": null,
            "grid_template_areas": null,
            "grid_template_columns": null,
            "grid_template_rows": null,
            "height": null,
            "justify_content": null,
            "justify_items": null,
            "left": null,
            "margin": null,
            "max_height": null,
            "max_width": null,
            "min_height": null,
            "min_width": null,
            "object_fit": null,
            "object_position": null,
            "order": null,
            "overflow": null,
            "overflow_x": null,
            "overflow_y": null,
            "padding": null,
            "right": null,
            "top": null,
            "visibility": null,
            "width": null
          }
        },
        "ba3375efee2b4935965116d899e3ae51": {
          "model_module": "@jupyter-widgets/base",
          "model_name": "LayoutModel",
          "model_module_version": "1.2.0",
          "state": {
            "_model_module": "@jupyter-widgets/base",
            "_model_module_version": "1.2.0",
            "_model_name": "LayoutModel",
            "_view_count": null,
            "_view_module": "@jupyter-widgets/base",
            "_view_module_version": "1.2.0",
            "_view_name": "LayoutView",
            "align_content": null,
            "align_items": null,
            "align_self": null,
            "border": null,
            "bottom": null,
            "display": null,
            "flex": null,
            "flex_flow": null,
            "grid_area": null,
            "grid_auto_columns": null,
            "grid_auto_flow": null,
            "grid_auto_rows": null,
            "grid_column": null,
            "grid_gap": null,
            "grid_row": null,
            "grid_template_areas": null,
            "grid_template_columns": null,
            "grid_template_rows": null,
            "height": null,
            "justify_content": null,
            "justify_items": null,
            "left": null,
            "margin": null,
            "max_height": null,
            "max_width": null,
            "min_height": null,
            "min_width": null,
            "object_fit": null,
            "object_position": null,
            "order": null,
            "overflow": null,
            "overflow_x": null,
            "overflow_y": null,
            "padding": null,
            "right": null,
            "top": null,
            "visibility": null,
            "width": null
          }
        },
        "18c06f33980f4623a1d82bfdb248f072": {
          "model_module": "@jupyter-widgets/controls",
          "model_name": "DescriptionStyleModel",
          "model_module_version": "1.5.0",
          "state": {
            "_model_module": "@jupyter-widgets/controls",
            "_model_module_version": "1.5.0",
            "_model_name": "DescriptionStyleModel",
            "_view_count": null,
            "_view_module": "@jupyter-widgets/base",
            "_view_module_version": "1.2.0",
            "_view_name": "StyleView",
            "description_width": ""
          }
        },
        "3dd604ebc0534cbeb0e2c5bab9c9db3f": {
          "model_module": "@jupyter-widgets/base",
          "model_name": "LayoutModel",
          "model_module_version": "1.2.0",
          "state": {
            "_model_module": "@jupyter-widgets/base",
            "_model_module_version": "1.2.0",
            "_model_name": "LayoutModel",
            "_view_count": null,
            "_view_module": "@jupyter-widgets/base",
            "_view_module_version": "1.2.0",
            "_view_name": "LayoutView",
            "align_content": null,
            "align_items": null,
            "align_self": null,
            "border": null,
            "bottom": null,
            "display": null,
            "flex": null,
            "flex_flow": null,
            "grid_area": null,
            "grid_auto_columns": null,
            "grid_auto_flow": null,
            "grid_auto_rows": null,
            "grid_column": null,
            "grid_gap": null,
            "grid_row": null,
            "grid_template_areas": null,
            "grid_template_columns": null,
            "grid_template_rows": null,
            "height": null,
            "justify_content": null,
            "justify_items": null,
            "left": null,
            "margin": null,
            "max_height": null,
            "max_width": null,
            "min_height": null,
            "min_width": null,
            "object_fit": null,
            "object_position": null,
            "order": null,
            "overflow": null,
            "overflow_x": null,
            "overflow_y": null,
            "padding": null,
            "right": null,
            "top": null,
            "visibility": null,
            "width": null
          }
        },
        "168a15651b8245f2a712b91870982896": {
          "model_module": "@jupyter-widgets/controls",
          "model_name": "ProgressStyleModel",
          "model_module_version": "1.5.0",
          "state": {
            "_model_module": "@jupyter-widgets/controls",
            "_model_module_version": "1.5.0",
            "_model_name": "ProgressStyleModel",
            "_view_count": null,
            "_view_module": "@jupyter-widgets/base",
            "_view_module_version": "1.2.0",
            "_view_name": "StyleView",
            "bar_color": null,
            "description_width": ""
          }
        },
        "9f521d474eb44ed88c4e9a50187d8b8c": {
          "model_module": "@jupyter-widgets/base",
          "model_name": "LayoutModel",
          "model_module_version": "1.2.0",
          "state": {
            "_model_module": "@jupyter-widgets/base",
            "_model_module_version": "1.2.0",
            "_model_name": "LayoutModel",
            "_view_count": null,
            "_view_module": "@jupyter-widgets/base",
            "_view_module_version": "1.2.0",
            "_view_name": "LayoutView",
            "align_content": null,
            "align_items": null,
            "align_self": null,
            "border": null,
            "bottom": null,
            "display": null,
            "flex": null,
            "flex_flow": null,
            "grid_area": null,
            "grid_auto_columns": null,
            "grid_auto_flow": null,
            "grid_auto_rows": null,
            "grid_column": null,
            "grid_gap": null,
            "grid_row": null,
            "grid_template_areas": null,
            "grid_template_columns": null,
            "grid_template_rows": null,
            "height": null,
            "justify_content": null,
            "justify_items": null,
            "left": null,
            "margin": null,
            "max_height": null,
            "max_width": null,
            "min_height": null,
            "min_width": null,
            "object_fit": null,
            "object_position": null,
            "order": null,
            "overflow": null,
            "overflow_x": null,
            "overflow_y": null,
            "padding": null,
            "right": null,
            "top": null,
            "visibility": null,
            "width": null
          }
        },
        "9f3c4c8ada204ec2906389270af24708": {
          "model_module": "@jupyter-widgets/controls",
          "model_name": "DescriptionStyleModel",
          "model_module_version": "1.5.0",
          "state": {
            "_model_module": "@jupyter-widgets/controls",
            "_model_module_version": "1.5.0",
            "_model_name": "DescriptionStyleModel",
            "_view_count": null,
            "_view_module": "@jupyter-widgets/base",
            "_view_module_version": "1.2.0",
            "_view_name": "StyleView",
            "description_width": ""
          }
        },
        "68a7ac574a0d4537a96175adaed46bc4": {
          "model_module": "@jupyter-widgets/controls",
          "model_name": "HBoxModel",
          "model_module_version": "1.5.0",
          "state": {
            "_dom_classes": [],
            "_model_module": "@jupyter-widgets/controls",
            "_model_module_version": "1.5.0",
            "_model_name": "HBoxModel",
            "_view_count": null,
            "_view_module": "@jupyter-widgets/controls",
            "_view_module_version": "1.5.0",
            "_view_name": "HBoxView",
            "box_style": "",
            "children": [
              "IPY_MODEL_ac7dfbf8d9c44e2f95fea7f81f12aebd",
              "IPY_MODEL_463dea9210214e67ad32dba1f098ac23",
              "IPY_MODEL_871090c1770946d8942a0d2b5b5449f4"
            ],
            "layout": "IPY_MODEL_0fa8a2b8f2554bdb8a479770a14f6254"
          }
        },
        "ac7dfbf8d9c44e2f95fea7f81f12aebd": {
          "model_module": "@jupyter-widgets/controls",
          "model_name": "HTMLModel",
          "model_module_version": "1.5.0",
          "state": {
            "_dom_classes": [],
            "_model_module": "@jupyter-widgets/controls",
            "_model_module_version": "1.5.0",
            "_model_name": "HTMLModel",
            "_view_count": null,
            "_view_module": "@jupyter-widgets/controls",
            "_view_module_version": "1.5.0",
            "_view_name": "HTMLView",
            "description": "",
            "description_tooltip": null,
            "layout": "IPY_MODEL_f092f3d5696c4aa587c2bf8bb481b9ca",
            "placeholder": "​",
            "style": "IPY_MODEL_b3bb533effb848b3bf93bce9cbb6897d",
            "value": "Downloading: 100%"
          }
        },
        "463dea9210214e67ad32dba1f098ac23": {
          "model_module": "@jupyter-widgets/controls",
          "model_name": "FloatProgressModel",
          "model_module_version": "1.5.0",
          "state": {
            "_dom_classes": [],
            "_model_module": "@jupyter-widgets/controls",
            "_model_module_version": "1.5.0",
            "_model_name": "FloatProgressModel",
            "_view_count": null,
            "_view_module": "@jupyter-widgets/controls",
            "_view_module_version": "1.5.0",
            "_view_name": "ProgressView",
            "bar_style": "success",
            "description": "",
            "description_tooltip": null,
            "layout": "IPY_MODEL_ee02f4e0e0794446b94e0cef75a3abc9",
            "max": 1199,
            "min": 0,
            "orientation": "horizontal",
            "style": "IPY_MODEL_3eabc0119e7f4cdba1fa742beafe63d8",
            "value": 1199
          }
        },
        "871090c1770946d8942a0d2b5b5449f4": {
          "model_module": "@jupyter-widgets/controls",
          "model_name": "HTMLModel",
          "model_module_version": "1.5.0",
          "state": {
            "_dom_classes": [],
            "_model_module": "@jupyter-widgets/controls",
            "_model_module_version": "1.5.0",
            "_model_name": "HTMLModel",
            "_view_count": null,
            "_view_module": "@jupyter-widgets/controls",
            "_view_module_version": "1.5.0",
            "_view_name": "HTMLView",
            "description": "",
            "description_tooltip": null,
            "layout": "IPY_MODEL_6325d48d59d84ea69a317a249bdff793",
            "placeholder": "​",
            "style": "IPY_MODEL_133d8f59edd64a23ae4bf1048c38a450",
            "value": " 1.17k/1.17k [00:00&lt;00:00, 36.5kB/s]"
          }
        },
        "0fa8a2b8f2554bdb8a479770a14f6254": {
          "model_module": "@jupyter-widgets/base",
          "model_name": "LayoutModel",
          "model_module_version": "1.2.0",
          "state": {
            "_model_module": "@jupyter-widgets/base",
            "_model_module_version": "1.2.0",
            "_model_name": "LayoutModel",
            "_view_count": null,
            "_view_module": "@jupyter-widgets/base",
            "_view_module_version": "1.2.0",
            "_view_name": "LayoutView",
            "align_content": null,
            "align_items": null,
            "align_self": null,
            "border": null,
            "bottom": null,
            "display": null,
            "flex": null,
            "flex_flow": null,
            "grid_area": null,
            "grid_auto_columns": null,
            "grid_auto_flow": null,
            "grid_auto_rows": null,
            "grid_column": null,
            "grid_gap": null,
            "grid_row": null,
            "grid_template_areas": null,
            "grid_template_columns": null,
            "grid_template_rows": null,
            "height": null,
            "justify_content": null,
            "justify_items": null,
            "left": null,
            "margin": null,
            "max_height": null,
            "max_width": null,
            "min_height": null,
            "min_width": null,
            "object_fit": null,
            "object_position": null,
            "order": null,
            "overflow": null,
            "overflow_x": null,
            "overflow_y": null,
            "padding": null,
            "right": null,
            "top": null,
            "visibility": null,
            "width": null
          }
        },
        "f092f3d5696c4aa587c2bf8bb481b9ca": {
          "model_module": "@jupyter-widgets/base",
          "model_name": "LayoutModel",
          "model_module_version": "1.2.0",
          "state": {
            "_model_module": "@jupyter-widgets/base",
            "_model_module_version": "1.2.0",
            "_model_name": "LayoutModel",
            "_view_count": null,
            "_view_module": "@jupyter-widgets/base",
            "_view_module_version": "1.2.0",
            "_view_name": "LayoutView",
            "align_content": null,
            "align_items": null,
            "align_self": null,
            "border": null,
            "bottom": null,
            "display": null,
            "flex": null,
            "flex_flow": null,
            "grid_area": null,
            "grid_auto_columns": null,
            "grid_auto_flow": null,
            "grid_auto_rows": null,
            "grid_column": null,
            "grid_gap": null,
            "grid_row": null,
            "grid_template_areas": null,
            "grid_template_columns": null,
            "grid_template_rows": null,
            "height": null,
            "justify_content": null,
            "justify_items": null,
            "left": null,
            "margin": null,
            "max_height": null,
            "max_width": null,
            "min_height": null,
            "min_width": null,
            "object_fit": null,
            "object_position": null,
            "order": null,
            "overflow": null,
            "overflow_x": null,
            "overflow_y": null,
            "padding": null,
            "right": null,
            "top": null,
            "visibility": null,
            "width": null
          }
        },
        "b3bb533effb848b3bf93bce9cbb6897d": {
          "model_module": "@jupyter-widgets/controls",
          "model_name": "DescriptionStyleModel",
          "model_module_version": "1.5.0",
          "state": {
            "_model_module": "@jupyter-widgets/controls",
            "_model_module_version": "1.5.0",
            "_model_name": "DescriptionStyleModel",
            "_view_count": null,
            "_view_module": "@jupyter-widgets/base",
            "_view_module_version": "1.2.0",
            "_view_name": "StyleView",
            "description_width": ""
          }
        },
        "ee02f4e0e0794446b94e0cef75a3abc9": {
          "model_module": "@jupyter-widgets/base",
          "model_name": "LayoutModel",
          "model_module_version": "1.2.0",
          "state": {
            "_model_module": "@jupyter-widgets/base",
            "_model_module_version": "1.2.0",
            "_model_name": "LayoutModel",
            "_view_count": null,
            "_view_module": "@jupyter-widgets/base",
            "_view_module_version": "1.2.0",
            "_view_name": "LayoutView",
            "align_content": null,
            "align_items": null,
            "align_self": null,
            "border": null,
            "bottom": null,
            "display": null,
            "flex": null,
            "flex_flow": null,
            "grid_area": null,
            "grid_auto_columns": null,
            "grid_auto_flow": null,
            "grid_auto_rows": null,
            "grid_column": null,
            "grid_gap": null,
            "grid_row": null,
            "grid_template_areas": null,
            "grid_template_columns": null,
            "grid_template_rows": null,
            "height": null,
            "justify_content": null,
            "justify_items": null,
            "left": null,
            "margin": null,
            "max_height": null,
            "max_width": null,
            "min_height": null,
            "min_width": null,
            "object_fit": null,
            "object_position": null,
            "order": null,
            "overflow": null,
            "overflow_x": null,
            "overflow_y": null,
            "padding": null,
            "right": null,
            "top": null,
            "visibility": null,
            "width": null
          }
        },
        "3eabc0119e7f4cdba1fa742beafe63d8": {
          "model_module": "@jupyter-widgets/controls",
          "model_name": "ProgressStyleModel",
          "model_module_version": "1.5.0",
          "state": {
            "_model_module": "@jupyter-widgets/controls",
            "_model_module_version": "1.5.0",
            "_model_name": "ProgressStyleModel",
            "_view_count": null,
            "_view_module": "@jupyter-widgets/base",
            "_view_module_version": "1.2.0",
            "_view_name": "StyleView",
            "bar_color": null,
            "description_width": ""
          }
        },
        "6325d48d59d84ea69a317a249bdff793": {
          "model_module": "@jupyter-widgets/base",
          "model_name": "LayoutModel",
          "model_module_version": "1.2.0",
          "state": {
            "_model_module": "@jupyter-widgets/base",
            "_model_module_version": "1.2.0",
            "_model_name": "LayoutModel",
            "_view_count": null,
            "_view_module": "@jupyter-widgets/base",
            "_view_module_version": "1.2.0",
            "_view_name": "LayoutView",
            "align_content": null,
            "align_items": null,
            "align_self": null,
            "border": null,
            "bottom": null,
            "display": null,
            "flex": null,
            "flex_flow": null,
            "grid_area": null,
            "grid_auto_columns": null,
            "grid_auto_flow": null,
            "grid_auto_rows": null,
            "grid_column": null,
            "grid_gap": null,
            "grid_row": null,
            "grid_template_areas": null,
            "grid_template_columns": null,
            "grid_template_rows": null,
            "height": null,
            "justify_content": null,
            "justify_items": null,
            "left": null,
            "margin": null,
            "max_height": null,
            "max_width": null,
            "min_height": null,
            "min_width": null,
            "object_fit": null,
            "object_position": null,
            "order": null,
            "overflow": null,
            "overflow_x": null,
            "overflow_y": null,
            "padding": null,
            "right": null,
            "top": null,
            "visibility": null,
            "width": null
          }
        },
        "133d8f59edd64a23ae4bf1048c38a450": {
          "model_module": "@jupyter-widgets/controls",
          "model_name": "DescriptionStyleModel",
          "model_module_version": "1.5.0",
          "state": {
            "_model_module": "@jupyter-widgets/controls",
            "_model_module_version": "1.5.0",
            "_model_name": "DescriptionStyleModel",
            "_view_count": null,
            "_view_module": "@jupyter-widgets/base",
            "_view_module_version": "1.2.0",
            "_view_name": "StyleView",
            "description_width": ""
          }
        },
        "d8593368c042476db7fde4f55c0e59a1": {
          "model_module": "@jupyter-widgets/controls",
          "model_name": "HBoxModel",
          "model_module_version": "1.5.0",
          "state": {
            "_dom_classes": [],
            "_model_module": "@jupyter-widgets/controls",
            "_model_module_version": "1.5.0",
            "_model_name": "HBoxModel",
            "_view_count": null,
            "_view_module": "@jupyter-widgets/controls",
            "_view_module_version": "1.5.0",
            "_view_name": "HBoxView",
            "box_style": "",
            "children": [
              "IPY_MODEL_e416245215204b80b450c86fb1f82907",
              "IPY_MODEL_9e7761382aa9443496e77e3e352e25d0",
              "IPY_MODEL_1710552c99e54c83bdfe868c1af6f7bc"
            ],
            "layout": "IPY_MODEL_c49a1891620140ed92ad8c05ea383076"
          }
        },
        "e416245215204b80b450c86fb1f82907": {
          "model_module": "@jupyter-widgets/controls",
          "model_name": "HTMLModel",
          "model_module_version": "1.5.0",
          "state": {
            "_dom_classes": [],
            "_model_module": "@jupyter-widgets/controls",
            "_model_module_version": "1.5.0",
            "_model_name": "HTMLModel",
            "_view_count": null,
            "_view_module": "@jupyter-widgets/controls",
            "_view_module_version": "1.5.0",
            "_view_name": "HTMLView",
            "description": "",
            "description_tooltip": null,
            "layout": "IPY_MODEL_ccc4566de062442ab92cf6369a0f7d70",
            "placeholder": "​",
            "style": "IPY_MODEL_af543a6e63be47e9a61b2fba7ecd7b62",
            "value": "Downloading: 100%"
          }
        },
        "9e7761382aa9443496e77e3e352e25d0": {
          "model_module": "@jupyter-widgets/controls",
          "model_name": "FloatProgressModel",
          "model_module_version": "1.5.0",
          "state": {
            "_dom_classes": [],
            "_model_module": "@jupyter-widgets/controls",
            "_model_module_version": "1.5.0",
            "_model_name": "FloatProgressModel",
            "_view_count": null,
            "_view_module": "@jupyter-widgets/controls",
            "_view_module_version": "1.5.0",
            "_view_name": "ProgressView",
            "bar_style": "success",
            "description": "",
            "description_tooltip": null,
            "layout": "IPY_MODEL_5e1b7773ae6e42ef8606b6756b263b6c",
            "max": 891691430,
            "min": 0,
            "orientation": "horizontal",
            "style": "IPY_MODEL_3d405d4fed5143728f03e391d1bc733e",
            "value": 891691430
          }
        },
        "1710552c99e54c83bdfe868c1af6f7bc": {
          "model_module": "@jupyter-widgets/controls",
          "model_name": "HTMLModel",
          "model_module_version": "1.5.0",
          "state": {
            "_dom_classes": [],
            "_model_module": "@jupyter-widgets/controls",
            "_model_module_version": "1.5.0",
            "_model_name": "HTMLModel",
            "_view_count": null,
            "_view_module": "@jupyter-widgets/controls",
            "_view_module_version": "1.5.0",
            "_view_name": "HTMLView",
            "description": "",
            "description_tooltip": null,
            "layout": "IPY_MODEL_7cb08b1936d6497ea174163b94ab53cb",
            "placeholder": "​",
            "style": "IPY_MODEL_f5760c3f61cd4d22af9684479dac43ac",
            "value": " 850M/850M [00:15&lt;00:00, 63.2MB/s]"
          }
        },
        "c49a1891620140ed92ad8c05ea383076": {
          "model_module": "@jupyter-widgets/base",
          "model_name": "LayoutModel",
          "model_module_version": "1.2.0",
          "state": {
            "_model_module": "@jupyter-widgets/base",
            "_model_module_version": "1.2.0",
            "_model_name": "LayoutModel",
            "_view_count": null,
            "_view_module": "@jupyter-widgets/base",
            "_view_module_version": "1.2.0",
            "_view_name": "LayoutView",
            "align_content": null,
            "align_items": null,
            "align_self": null,
            "border": null,
            "bottom": null,
            "display": null,
            "flex": null,
            "flex_flow": null,
            "grid_area": null,
            "grid_auto_columns": null,
            "grid_auto_flow": null,
            "grid_auto_rows": null,
            "grid_column": null,
            "grid_gap": null,
            "grid_row": null,
            "grid_template_areas": null,
            "grid_template_columns": null,
            "grid_template_rows": null,
            "height": null,
            "justify_content": null,
            "justify_items": null,
            "left": null,
            "margin": null,
            "max_height": null,
            "max_width": null,
            "min_height": null,
            "min_width": null,
            "object_fit": null,
            "object_position": null,
            "order": null,
            "overflow": null,
            "overflow_x": null,
            "overflow_y": null,
            "padding": null,
            "right": null,
            "top": null,
            "visibility": null,
            "width": null
          }
        },
        "ccc4566de062442ab92cf6369a0f7d70": {
          "model_module": "@jupyter-widgets/base",
          "model_name": "LayoutModel",
          "model_module_version": "1.2.0",
          "state": {
            "_model_module": "@jupyter-widgets/base",
            "_model_module_version": "1.2.0",
            "_model_name": "LayoutModel",
            "_view_count": null,
            "_view_module": "@jupyter-widgets/base",
            "_view_module_version": "1.2.0",
            "_view_name": "LayoutView",
            "align_content": null,
            "align_items": null,
            "align_self": null,
            "border": null,
            "bottom": null,
            "display": null,
            "flex": null,
            "flex_flow": null,
            "grid_area": null,
            "grid_auto_columns": null,
            "grid_auto_flow": null,
            "grid_auto_rows": null,
            "grid_column": null,
            "grid_gap": null,
            "grid_row": null,
            "grid_template_areas": null,
            "grid_template_columns": null,
            "grid_template_rows": null,
            "height": null,
            "justify_content": null,
            "justify_items": null,
            "left": null,
            "margin": null,
            "max_height": null,
            "max_width": null,
            "min_height": null,
            "min_width": null,
            "object_fit": null,
            "object_position": null,
            "order": null,
            "overflow": null,
            "overflow_x": null,
            "overflow_y": null,
            "padding": null,
            "right": null,
            "top": null,
            "visibility": null,
            "width": null
          }
        },
        "af543a6e63be47e9a61b2fba7ecd7b62": {
          "model_module": "@jupyter-widgets/controls",
          "model_name": "DescriptionStyleModel",
          "model_module_version": "1.5.0",
          "state": {
            "_model_module": "@jupyter-widgets/controls",
            "_model_module_version": "1.5.0",
            "_model_name": "DescriptionStyleModel",
            "_view_count": null,
            "_view_module": "@jupyter-widgets/base",
            "_view_module_version": "1.2.0",
            "_view_name": "StyleView",
            "description_width": ""
          }
        },
        "5e1b7773ae6e42ef8606b6756b263b6c": {
          "model_module": "@jupyter-widgets/base",
          "model_name": "LayoutModel",
          "model_module_version": "1.2.0",
          "state": {
            "_model_module": "@jupyter-widgets/base",
            "_model_module_version": "1.2.0",
            "_model_name": "LayoutModel",
            "_view_count": null,
            "_view_module": "@jupyter-widgets/base",
            "_view_module_version": "1.2.0",
            "_view_name": "LayoutView",
            "align_content": null,
            "align_items": null,
            "align_self": null,
            "border": null,
            "bottom": null,
            "display": null,
            "flex": null,
            "flex_flow": null,
            "grid_area": null,
            "grid_auto_columns": null,
            "grid_auto_flow": null,
            "grid_auto_rows": null,
            "grid_column": null,
            "grid_gap": null,
            "grid_row": null,
            "grid_template_areas": null,
            "grid_template_columns": null,
            "grid_template_rows": null,
            "height": null,
            "justify_content": null,
            "justify_items": null,
            "left": null,
            "margin": null,
            "max_height": null,
            "max_width": null,
            "min_height": null,
            "min_width": null,
            "object_fit": null,
            "object_position": null,
            "order": null,
            "overflow": null,
            "overflow_x": null,
            "overflow_y": null,
            "padding": null,
            "right": null,
            "top": null,
            "visibility": null,
            "width": null
          }
        },
        "3d405d4fed5143728f03e391d1bc733e": {
          "model_module": "@jupyter-widgets/controls",
          "model_name": "ProgressStyleModel",
          "model_module_version": "1.5.0",
          "state": {
            "_model_module": "@jupyter-widgets/controls",
            "_model_module_version": "1.5.0",
            "_model_name": "ProgressStyleModel",
            "_view_count": null,
            "_view_module": "@jupyter-widgets/base",
            "_view_module_version": "1.2.0",
            "_view_name": "StyleView",
            "bar_color": null,
            "description_width": ""
          }
        },
        "7cb08b1936d6497ea174163b94ab53cb": {
          "model_module": "@jupyter-widgets/base",
          "model_name": "LayoutModel",
          "model_module_version": "1.2.0",
          "state": {
            "_model_module": "@jupyter-widgets/base",
            "_model_module_version": "1.2.0",
            "_model_name": "LayoutModel",
            "_view_count": null,
            "_view_module": "@jupyter-widgets/base",
            "_view_module_version": "1.2.0",
            "_view_name": "LayoutView",
            "align_content": null,
            "align_items": null,
            "align_self": null,
            "border": null,
            "bottom": null,
            "display": null,
            "flex": null,
            "flex_flow": null,
            "grid_area": null,
            "grid_auto_columns": null,
            "grid_auto_flow": null,
            "grid_auto_rows": null,
            "grid_column": null,
            "grid_gap": null,
            "grid_row": null,
            "grid_template_areas": null,
            "grid_template_columns": null,
            "grid_template_rows": null,
            "height": null,
            "justify_content": null,
            "justify_items": null,
            "left": null,
            "margin": null,
            "max_height": null,
            "max_width": null,
            "min_height": null,
            "min_width": null,
            "object_fit": null,
            "object_position": null,
            "order": null,
            "overflow": null,
            "overflow_x": null,
            "overflow_y": null,
            "padding": null,
            "right": null,
            "top": null,
            "visibility": null,
            "width": null
          }
        },
        "f5760c3f61cd4d22af9684479dac43ac": {
          "model_module": "@jupyter-widgets/controls",
          "model_name": "DescriptionStyleModel",
          "model_module_version": "1.5.0",
          "state": {
            "_model_module": "@jupyter-widgets/controls",
            "_model_module_version": "1.5.0",
            "_model_name": "DescriptionStyleModel",
            "_view_count": null,
            "_view_module": "@jupyter-widgets/base",
            "_view_module_version": "1.2.0",
            "_view_name": "StyleView",
            "description_width": ""
          }
        }
      }
    }
  },
  "cells": [
    {
      "cell_type": "markdown",
      "metadata": {
        "id": "view-in-github",
        "colab_type": "text"
      },
      "source": [
        "<a href=\"https://colab.research.google.com/github/Eshan-K-Kaushal/Voice_Chatbot/blob/main/T5_QA_Eval_Copy.ipynb\" target=\"_parent\"><img src=\"https://colab.research.google.com/assets/colab-badge.svg\" alt=\"Open In Colab\"/></a>"
      ]
    },
    {
      "cell_type": "code",
      "execution_count": null,
      "metadata": {
        "id": "L-q-kw-y17Da"
      },
      "outputs": [],
      "source": [
        "import numpy as np\n",
        "import pandas as pd\n",
        "import matplotlib.pyplot as plt\n",
        "from sklearn.model_selection import train_test_split\n",
        "import scipy.spatial\n",
        "import matplotlib.pyplot as plt\n",
        "\n",
        "\n",
        "# from transformers import T5Tokenizer, T5ForConditionalGeneration\n",
        "from tqdm import tqdm\n",
        "import pandas as pd\n",
        "from torch.utils.data import DataLoader, SequentialSampler, TensorDataset\n",
        "import torch\n",
        "from pprint import pprint\n",
        "\n",
        "import sys\n",
        "import os\n",
        "import glob\n",
        "\n",
        "!pip install simplet5\n",
        "from simplet5 import SimpleT5"
      ]
    },
    {
      "cell_type": "code",
      "source": [
        "from google.colab import drive\n",
        "drive.mount('/content/drive')"
      ],
      "metadata": {
        "colab": {
          "base_uri": "https://localhost:8080/"
        },
        "id": "uQBoLnyMmXTW",
        "outputId": "469943c2-eac4-4494-9ab0-189c810dcd5f"
      },
      "execution_count": 2,
      "outputs": [
        {
          "output_type": "stream",
          "name": "stdout",
          "text": [
            "Mounted at /content/drive\n"
          ]
        }
      ]
    },
    {
      "cell_type": "code",
      "source": [
        "PATH = '/content/drive/MyDrive/NLP/Combined_Dataset_Test.csv'\n",
        "dataset = pd.read_csv(PATH)\n",
        "pd.set_option('display.max_colwidth', None)\n",
        "#dataset = dataset[['Question', 'Answer']]\n",
        "dataset = dataset.sample(frac=1, random_state=1).reset_index()\n",
        "#print(dataset.head())\n",
        "\n",
        "q_list = \"question: \" + dataset['Question']                          # questions list to feed the model\n",
        "n_list = dataset['Answer'] + \" </s>\"  # answers list to feed the model\n",
        "\n",
        "dict_data = {'source_text': q_list,\n",
        "      'target_text': n_list}\n",
        "\n",
        "df = pd.DataFrame(dict_data)\n",
        "#print(df.head())\n",
        "\n",
        "# print(df['source_text'][1])\n",
        "# print('\\n')\n",
        "# print(df['target_text'][1])\n",
        "\n",
        "# splitting data into train and test data\n",
        "train_data, val_data = train_test_split(df[:77], test_size=0.001)\n",
        "test_data = df[70:77]\n",
        "print(train_data.shape, val_data.shape, test_data.shape)\n"
      ],
      "metadata": {
        "colab": {
          "base_uri": "https://localhost:8080/"
        },
        "id": "I-3BCKNP2Z8W",
        "outputId": "8690d953-eb00-4e19-c492-27613c740d36"
      },
      "execution_count": 3,
      "outputs": [
        {
          "output_type": "stream",
          "name": "stdout",
          "text": [
            "(75, 2) (1, 2) (6, 2)\n"
          ]
        }
      ]
    },
    {
      "cell_type": "code",
      "source": [
        "from simplet5 import SimpleT5\n",
        "model = SimpleT5()\n",
        "model.from_pretrained(model_type=\"t5\", model_name=\"t5-base\")"
      ],
      "metadata": {
        "id": "P3y_QfUF2l6E",
        "colab": {
          "base_uri": "https://localhost:8080/",
          "height": 145,
          "referenced_widgets": [
            "70209752c2ad43d4923ca4732c9798a7",
            "5e674510ee7d4c7298b175c6c5404eb0",
            "abe44c954a6a4df7b1008428f36504c1",
            "ba062da1cf4f4ff7abb4ae7822fc6e66",
            "38fcb4ded52c4025889c8e2e4be7ce53",
            "c67c2ba452234ea8802d022aa6955a3b",
            "7d64bc3f0074485bb6ff9165b7ab1fe4",
            "c68dbfd83bf247b8bbef29422a1937b5",
            "585d46c5145b421bbf3a26a5b3a8dabd",
            "45e81725f4d345309d0dbac3b13509e6",
            "b0ff6a921acd4476bf5e277e803ffb53",
            "f0c1ce081ed240f488cded163a77da07",
            "430597840a8845208ff8e3bbbcdab144",
            "2f3ff9b214d546389db1266e23ee0cec",
            "8b7e022857f74370bb83e0465325c491",
            "41c79a4f60194fea9942a8fb5152a900",
            "ba3375efee2b4935965116d899e3ae51",
            "18c06f33980f4623a1d82bfdb248f072",
            "3dd604ebc0534cbeb0e2c5bab9c9db3f",
            "168a15651b8245f2a712b91870982896",
            "9f521d474eb44ed88c4e9a50187d8b8c",
            "9f3c4c8ada204ec2906389270af24708",
            "68a7ac574a0d4537a96175adaed46bc4",
            "ac7dfbf8d9c44e2f95fea7f81f12aebd",
            "463dea9210214e67ad32dba1f098ac23",
            "871090c1770946d8942a0d2b5b5449f4",
            "0fa8a2b8f2554bdb8a479770a14f6254",
            "f092f3d5696c4aa587c2bf8bb481b9ca",
            "b3bb533effb848b3bf93bce9cbb6897d",
            "ee02f4e0e0794446b94e0cef75a3abc9",
            "3eabc0119e7f4cdba1fa742beafe63d8",
            "6325d48d59d84ea69a317a249bdff793",
            "133d8f59edd64a23ae4bf1048c38a450",
            "d8593368c042476db7fde4f55c0e59a1",
            "e416245215204b80b450c86fb1f82907",
            "9e7761382aa9443496e77e3e352e25d0",
            "1710552c99e54c83bdfe868c1af6f7bc",
            "c49a1891620140ed92ad8c05ea383076",
            "ccc4566de062442ab92cf6369a0f7d70",
            "af543a6e63be47e9a61b2fba7ecd7b62",
            "5e1b7773ae6e42ef8606b6756b263b6c",
            "3d405d4fed5143728f03e391d1bc733e",
            "7cb08b1936d6497ea174163b94ab53cb",
            "f5760c3f61cd4d22af9684479dac43ac"
          ]
        },
        "outputId": "cac58980-1f53-41ed-f15d-85ccf74f0505"
      },
      "execution_count": 4,
      "outputs": [
        {
          "output_type": "display_data",
          "data": {
            "text/plain": [
              "Downloading:   0%|          | 0.00/773k [00:00<?, ?B/s]"
            ],
            "application/vnd.jupyter.widget-view+json": {
              "version_major": 2,
              "version_minor": 0,
              "model_id": "70209752c2ad43d4923ca4732c9798a7"
            }
          },
          "metadata": {}
        },
        {
          "output_type": "display_data",
          "data": {
            "text/plain": [
              "Downloading:   0%|          | 0.00/1.32M [00:00<?, ?B/s]"
            ],
            "application/vnd.jupyter.widget-view+json": {
              "version_major": 2,
              "version_minor": 0,
              "model_id": "f0c1ce081ed240f488cded163a77da07"
            }
          },
          "metadata": {}
        },
        {
          "output_type": "display_data",
          "data": {
            "text/plain": [
              "Downloading:   0%|          | 0.00/1.17k [00:00<?, ?B/s]"
            ],
            "application/vnd.jupyter.widget-view+json": {
              "version_major": 2,
              "version_minor": 0,
              "model_id": "68a7ac574a0d4537a96175adaed46bc4"
            }
          },
          "metadata": {}
        },
        {
          "output_type": "display_data",
          "data": {
            "text/plain": [
              "Downloading:   0%|          | 0.00/850M [00:00<?, ?B/s]"
            ],
            "application/vnd.jupyter.widget-view+json": {
              "version_major": 2,
              "version_minor": 0,
              "model_id": "d8593368c042476db7fde4f55c0e59a1"
            }
          },
          "metadata": {}
        }
      ]
    },
    {
      "cell_type": "code",
      "source": [
        "model.train(train_df = train_data,\n",
        "            eval_df = val_data,\n",
        "            source_max_token_len=256,\n",
        "            target_max_token_len=256,\n",
        "            batch_size=2, max_epochs=15, use_gpu=True)"
      ],
      "metadata": {
        "id": "t7SMBLcPojWw"
      },
      "execution_count": null,
      "outputs": []
    },
    {
      "cell_type": "code",
      "source": [
        "model.load_model('/content/outputs/simplet5-epoch-9-train-loss-1.4679-val-loss-1.5278')"
      ],
      "metadata": {
        "id": "M3GjwEn_4EAF"
      },
      "execution_count": 6,
      "outputs": []
    },
    {
      "cell_type": "code",
      "source": [
        "test_df = pd.read_csv('/content/drive/MyDrive/NLP/Eval.csv')\n",
        "test_df['Question']"
      ],
      "metadata": {
        "id": "kAClt3w_4QDV"
      },
      "execution_count": null,
      "outputs": []
    },
    {
      "cell_type": "code",
      "source": [
        "q_test = test_df['Question'][25]\n",
        "q_ans = test_df['Answer'][25]\n",
        "q_ug = '''I am a multi-objective solver. Ask me questions from any domain and I will answer them by breaking them down into steps and answering them step by step.\\nAppend \"Let's solve it step by step\" after every question Q: <'Question asked'>. Using the Question asked, find the domain of the question and generate a background document on the domain. Using the domain's background document answer the question step by step.\\nAnn's favorite store was having a summer clearance. For $75 she bought 5 pairs of shorts for $7 each and 2 pairs of shoes for $10 each. She also bought 4 tops, all at the same price. How much did each top cost?'''\n",
        "q_ug2 = '''I am a multi-objective solver. Ask me questions from any domain and I will answer them by breaking them down into steps and answering them step by step. Append \"Let's solve it step by step\" after every question Q: <'Question asked'>. Using the Question asked, find the domain of the question and generate a background document on the domain. Using the domain's background document answer the question step by step. Q: What's an example of a scientist in Britain who won the Physics Nobel Prize? '''\n",
        "print('-'*50)\n",
        "#print(\"Question: \", q_ug, type(q_ug))\n",
        "print('-'*50)\n",
        "print(\"Question: \", q_test, type(q_test))\n",
        "print('-'*50)\n",
        "print(\"Answer: \",q_ans)"
      ],
      "metadata": {
        "id": "xOgqXjnU4VET",
        "colab": {
          "base_uri": "https://localhost:8080/"
        },
        "outputId": "5e5ad26c-ce22-40f1-d0d1-ca0ecbd7c4ab"
      },
      "execution_count": 8,
      "outputs": [
        {
          "output_type": "stream",
          "name": "stdout",
          "text": [
            "--------------------------------------------------\n",
            "--------------------------------------------------\n",
            "Question:  I am a multi-objective solver. Ask me questions from any domain and I will answer them by breaking them down into steps and answering them step by step.\\nAppend \"Let's solve it step by step\" after every question Q: <'Question asked'>. Using the Question asked, find the domain of the question and generate a background document on the domain. Using the domain's background document answer the question step by step.\\nDoes binge drinking during early pregnancy increase the risk of psychomotor deficits? <class 'str'>\n",
            "--------------------------------------------------\n",
            "Answer:  Let's solve it step by step.\\nIn this study, we found no systematic association between isolated episodes of binge drinking during early pregnancy and child motor function at age 5.\n"
          ]
        }
      ]
    },
    {
      "cell_type": "code",
      "source": [
        "print(q_test)\n",
        "#print(q_ug2)\n",
        "print('-'*50)\n",
        "#predicted_ans = model.predict(q_test)[0]\n",
        "predicted_ans_ug = model.predict(q_test)[0]\n",
        "print(predicted_ans_ug)"
      ],
      "metadata": {
        "colab": {
          "base_uri": "https://localhost:8080/"
        },
        "id": "IhFOmWgs4XEh",
        "outputId": "a8d18bed-59ef-4c8d-810c-eb4af7e42407"
      },
      "execution_count": 9,
      "outputs": [
        {
          "output_type": "stream",
          "name": "stdout",
          "text": [
            "I am a multi-objective solver. Ask me questions from any domain and I will answer them by breaking them down into steps and answering them step by step.\\nAppend \"Let's solve it step by step\" after every question Q: <'Question asked'>. Using the Question asked, find the domain of the question and generate a background document on the domain. Using the domain's background document answer the question step by step.\\nDoes binge drinking during early pregnancy increase the risk of psychomotor deficits?\n",
            "--------------------------------------------------\n",
            "nLet's solve it step by stepnFirst, let's find the domain of the question.nThe risk of psychomotor deficits may be higher during pregnancy.nAlso, binge drinking during early pregnancy can increase the risk of psychomotor deficits.nPregnancy and postpartum depression are important risk factors for early onset psychomotor deficits.\n"
          ]
        }
      ]
    },
    {
      "cell_type": "code",
      "source": [
        "y_test = [a for a in test_df['Answer'] ]\n",
        "\n",
        "# get the predicted answers\n",
        "y_pred = []\n",
        "for q in test_df['Question']:\n",
        "    y_pred.append(model.predict(q)[0])\n"
      ],
      "metadata": {
        "id": "qH1UAXJz4lgN"
      },
      "execution_count": 12,
      "outputs": []
    },
    {
      "cell_type": "code",
      "source": [
        "y_pred"
      ],
      "metadata": {
        "id": "t1rTOyCa4yMb"
      },
      "execution_count": null,
      "outputs": []
    },
    {
      "cell_type": "code",
      "source": [
        "!pip install rouge_score"
      ],
      "metadata": {
        "id": "R2c1_fGP47ou"
      },
      "execution_count": null,
      "outputs": []
    },
    {
      "cell_type": "code",
      "source": [
        "from rouge_score import rouge_scorer\n",
        "\n",
        "scorer = rouge_scorer.RougeScorer(['rouge1', 'rougeL'], use_stemmer=True)"
      ],
      "metadata": {
        "id": "bPLxfj5b42n1"
      },
      "execution_count": 13,
      "outputs": []
    },
    {
      "cell_type": "code",
      "source": [
        "# get the rouge score between test and predicted data\n",
        "precision_rouge_scores, recall_rouge_scores = [], []\n",
        "for i in range(len(y_pred)):\n",
        "    precision_rouge_scores.append(round(scorer.score(y_test[i], y_pred[i])['rouge1'][0],2))\n",
        "    recall_rouge_scores.append(round(scorer.score(y_test[i], y_pred[i])['rouge1'][1],2))"
      ],
      "metadata": {
        "id": "vUHqf4u05FMz"
      },
      "execution_count": 14,
      "outputs": []
    },
    {
      "cell_type": "code",
      "source": [
        "print(f'The average precision rouge scores of q&a for test data is: {round(np.mean(precision_rouge_scores),2)}')\n",
        "print(f'The average recall rouge scores of q&a for test data is: {round(np.mean(recall_rouge_scores),2)}')"
      ],
      "metadata": {
        "colab": {
          "base_uri": "https://localhost:8080/"
        },
        "id": "jd9yq36h5GA1",
        "outputId": "fc36cb77-b300-4af8-80db-0e08eba486bf"
      },
      "execution_count": 15,
      "outputs": [
        {
          "output_type": "stream",
          "name": "stdout",
          "text": [
            "The average precision rouge scores of q&a for test data is: 0.34\n",
            "The average recall rouge scores of q&a for test data is: 0.41\n"
          ]
        }
      ]
    },
    {
      "cell_type": "code",
      "source": [
        "scorer = rouge_scorer.RougeScorer(['rouge1', 'rougeL'], use_stemmer=True)\n",
        "scores = scorer.score('The quick brown fox jumps over the lazy dog',\n",
        "                      'The quick brown dog jumps on the log.')\n",
        "pprint(scores)"
      ],
      "metadata": {
        "colab": {
          "base_uri": "https://localhost:8080/"
        },
        "id": "5NX4f7fN50IU",
        "outputId": "4e9c7154-076e-49c1-ae9b-4c07313ccb01"
      },
      "execution_count": null,
      "outputs": [
        {
          "output_type": "stream",
          "name": "stdout",
          "text": [
            "{'rouge1': Score(precision=0.75, recall=0.6666666666666666, fmeasure=0.7058823529411765),\n",
            " 'rougeL': Score(precision=0.625, recall=0.5555555555555556, fmeasure=0.5882352941176471)}\n"
          ]
        }
      ]
    },
    {
      "cell_type": "code",
      "source": [
        "!cp -av /content/outputs /content/drive/MyDrive/NLP/"
      ],
      "metadata": {
        "id": "5X2xlFjcr4P0",
        "colab": {
          "base_uri": "https://localhost:8080/"
        },
        "outputId": "254fbcfb-e4ec-4a69-9210-763a0d05534e"
      },
      "execution_count": 16,
      "outputs": [
        {
          "output_type": "stream",
          "name": "stdout",
          "text": [
            "'/content/outputs' -> '/content/drive/MyDrive/NLP/outputs'\n",
            "'/content/outputs/simplet5-epoch-0-train-loss-4.4323-val-loss-2.1566' -> '/content/drive/MyDrive/NLP/outputs/simplet5-epoch-0-train-loss-4.4323-val-loss-2.1566'\n",
            "'/content/outputs/simplet5-epoch-0-train-loss-4.4323-val-loss-2.1566/tokenizer_config.json' -> '/content/drive/MyDrive/NLP/outputs/simplet5-epoch-0-train-loss-4.4323-val-loss-2.1566/tokenizer_config.json'\n",
            "'/content/outputs/simplet5-epoch-0-train-loss-4.4323-val-loss-2.1566/special_tokens_map.json' -> '/content/drive/MyDrive/NLP/outputs/simplet5-epoch-0-train-loss-4.4323-val-loss-2.1566/special_tokens_map.json'\n",
            "'/content/outputs/simplet5-epoch-0-train-loss-4.4323-val-loss-2.1566/spiece.model' -> '/content/drive/MyDrive/NLP/outputs/simplet5-epoch-0-train-loss-4.4323-val-loss-2.1566/spiece.model'\n",
            "'/content/outputs/simplet5-epoch-0-train-loss-4.4323-val-loss-2.1566/tokenizer.json' -> '/content/drive/MyDrive/NLP/outputs/simplet5-epoch-0-train-loss-4.4323-val-loss-2.1566/tokenizer.json'\n",
            "'/content/outputs/simplet5-epoch-0-train-loss-4.4323-val-loss-2.1566/config.json' -> '/content/drive/MyDrive/NLP/outputs/simplet5-epoch-0-train-loss-4.4323-val-loss-2.1566/config.json'\n",
            "'/content/outputs/simplet5-epoch-0-train-loss-4.4323-val-loss-2.1566/pytorch_model.bin' -> '/content/drive/MyDrive/NLP/outputs/simplet5-epoch-0-train-loss-4.4323-val-loss-2.1566/pytorch_model.bin'\n",
            "'/content/outputs/simplet5-epoch-2-train-loss-2.5421-val-loss-1.6795' -> '/content/drive/MyDrive/NLP/outputs/simplet5-epoch-2-train-loss-2.5421-val-loss-1.6795'\n",
            "'/content/outputs/simplet5-epoch-2-train-loss-2.5421-val-loss-1.6795/tokenizer_config.json' -> '/content/drive/MyDrive/NLP/outputs/simplet5-epoch-2-train-loss-2.5421-val-loss-1.6795/tokenizer_config.json'\n",
            "'/content/outputs/simplet5-epoch-2-train-loss-2.5421-val-loss-1.6795/special_tokens_map.json' -> '/content/drive/MyDrive/NLP/outputs/simplet5-epoch-2-train-loss-2.5421-val-loss-1.6795/special_tokens_map.json'\n",
            "'/content/outputs/simplet5-epoch-2-train-loss-2.5421-val-loss-1.6795/spiece.model' -> '/content/drive/MyDrive/NLP/outputs/simplet5-epoch-2-train-loss-2.5421-val-loss-1.6795/spiece.model'\n",
            "'/content/outputs/simplet5-epoch-2-train-loss-2.5421-val-loss-1.6795/tokenizer.json' -> '/content/drive/MyDrive/NLP/outputs/simplet5-epoch-2-train-loss-2.5421-val-loss-1.6795/tokenizer.json'\n",
            "'/content/outputs/simplet5-epoch-2-train-loss-2.5421-val-loss-1.6795/config.json' -> '/content/drive/MyDrive/NLP/outputs/simplet5-epoch-2-train-loss-2.5421-val-loss-1.6795/config.json'\n",
            "'/content/outputs/simplet5-epoch-2-train-loss-2.5421-val-loss-1.6795/pytorch_model.bin' -> '/content/drive/MyDrive/NLP/outputs/simplet5-epoch-2-train-loss-2.5421-val-loss-1.6795/pytorch_model.bin'\n",
            "'/content/outputs/simplet5-epoch-1-train-loss-2.8163-val-loss-1.8799' -> '/content/drive/MyDrive/NLP/outputs/simplet5-epoch-1-train-loss-2.8163-val-loss-1.8799'\n",
            "'/content/outputs/simplet5-epoch-1-train-loss-2.8163-val-loss-1.8799/tokenizer_config.json' -> '/content/drive/MyDrive/NLP/outputs/simplet5-epoch-1-train-loss-2.8163-val-loss-1.8799/tokenizer_config.json'\n",
            "'/content/outputs/simplet5-epoch-1-train-loss-2.8163-val-loss-1.8799/special_tokens_map.json' -> '/content/drive/MyDrive/NLP/outputs/simplet5-epoch-1-train-loss-2.8163-val-loss-1.8799/special_tokens_map.json'\n",
            "'/content/outputs/simplet5-epoch-1-train-loss-2.8163-val-loss-1.8799/spiece.model' -> '/content/drive/MyDrive/NLP/outputs/simplet5-epoch-1-train-loss-2.8163-val-loss-1.8799/spiece.model'\n",
            "'/content/outputs/simplet5-epoch-1-train-loss-2.8163-val-loss-1.8799/tokenizer.json' -> '/content/drive/MyDrive/NLP/outputs/simplet5-epoch-1-train-loss-2.8163-val-loss-1.8799/tokenizer.json'\n",
            "'/content/outputs/simplet5-epoch-1-train-loss-2.8163-val-loss-1.8799/config.json' -> '/content/drive/MyDrive/NLP/outputs/simplet5-epoch-1-train-loss-2.8163-val-loss-1.8799/config.json'\n",
            "'/content/outputs/simplet5-epoch-1-train-loss-2.8163-val-loss-1.8799/pytorch_model.bin' -> '/content/drive/MyDrive/NLP/outputs/simplet5-epoch-1-train-loss-2.8163-val-loss-1.8799/pytorch_model.bin'\n",
            "'/content/outputs/simplet5-epoch-3-train-loss-2.3595-val-loss-1.6548' -> '/content/drive/MyDrive/NLP/outputs/simplet5-epoch-3-train-loss-2.3595-val-loss-1.6548'\n",
            "'/content/outputs/simplet5-epoch-3-train-loss-2.3595-val-loss-1.6548/tokenizer_config.json' -> '/content/drive/MyDrive/NLP/outputs/simplet5-epoch-3-train-loss-2.3595-val-loss-1.6548/tokenizer_config.json'\n",
            "'/content/outputs/simplet5-epoch-3-train-loss-2.3595-val-loss-1.6548/special_tokens_map.json' -> '/content/drive/MyDrive/NLP/outputs/simplet5-epoch-3-train-loss-2.3595-val-loss-1.6548/special_tokens_map.json'\n",
            "'/content/outputs/simplet5-epoch-3-train-loss-2.3595-val-loss-1.6548/spiece.model' -> '/content/drive/MyDrive/NLP/outputs/simplet5-epoch-3-train-loss-2.3595-val-loss-1.6548/spiece.model'\n",
            "'/content/outputs/simplet5-epoch-3-train-loss-2.3595-val-loss-1.6548/tokenizer.json' -> '/content/drive/MyDrive/NLP/outputs/simplet5-epoch-3-train-loss-2.3595-val-loss-1.6548/tokenizer.json'\n",
            "'/content/outputs/simplet5-epoch-3-train-loss-2.3595-val-loss-1.6548/config.json' -> '/content/drive/MyDrive/NLP/outputs/simplet5-epoch-3-train-loss-2.3595-val-loss-1.6548/config.json'\n",
            "'/content/outputs/simplet5-epoch-3-train-loss-2.3595-val-loss-1.6548/pytorch_model.bin' -> '/content/drive/MyDrive/NLP/outputs/simplet5-epoch-3-train-loss-2.3595-val-loss-1.6548/pytorch_model.bin'\n",
            "'/content/outputs/simplet5-epoch-4-train-loss-2.1628-val-loss-1.5493' -> '/content/drive/MyDrive/NLP/outputs/simplet5-epoch-4-train-loss-2.1628-val-loss-1.5493'\n",
            "'/content/outputs/simplet5-epoch-4-train-loss-2.1628-val-loss-1.5493/tokenizer_config.json' -> '/content/drive/MyDrive/NLP/outputs/simplet5-epoch-4-train-loss-2.1628-val-loss-1.5493/tokenizer_config.json'\n",
            "'/content/outputs/simplet5-epoch-4-train-loss-2.1628-val-loss-1.5493/special_tokens_map.json' -> '/content/drive/MyDrive/NLP/outputs/simplet5-epoch-4-train-loss-2.1628-val-loss-1.5493/special_tokens_map.json'\n",
            "'/content/outputs/simplet5-epoch-4-train-loss-2.1628-val-loss-1.5493/spiece.model' -> '/content/drive/MyDrive/NLP/outputs/simplet5-epoch-4-train-loss-2.1628-val-loss-1.5493/spiece.model'\n",
            "'/content/outputs/simplet5-epoch-4-train-loss-2.1628-val-loss-1.5493/tokenizer.json' -> '/content/drive/MyDrive/NLP/outputs/simplet5-epoch-4-train-loss-2.1628-val-loss-1.5493/tokenizer.json'\n",
            "'/content/outputs/simplet5-epoch-4-train-loss-2.1628-val-loss-1.5493/config.json' -> '/content/drive/MyDrive/NLP/outputs/simplet5-epoch-4-train-loss-2.1628-val-loss-1.5493/config.json'\n",
            "'/content/outputs/simplet5-epoch-4-train-loss-2.1628-val-loss-1.5493/pytorch_model.bin' -> '/content/drive/MyDrive/NLP/outputs/simplet5-epoch-4-train-loss-2.1628-val-loss-1.5493/pytorch_model.bin'\n",
            "'/content/outputs/simplet5-epoch-5-train-loss-1.9857-val-loss-1.5636' -> '/content/drive/MyDrive/NLP/outputs/simplet5-epoch-5-train-loss-1.9857-val-loss-1.5636'\n",
            "'/content/outputs/simplet5-epoch-5-train-loss-1.9857-val-loss-1.5636/tokenizer_config.json' -> '/content/drive/MyDrive/NLP/outputs/simplet5-epoch-5-train-loss-1.9857-val-loss-1.5636/tokenizer_config.json'\n",
            "'/content/outputs/simplet5-epoch-5-train-loss-1.9857-val-loss-1.5636/special_tokens_map.json' -> '/content/drive/MyDrive/NLP/outputs/simplet5-epoch-5-train-loss-1.9857-val-loss-1.5636/special_tokens_map.json'\n",
            "'/content/outputs/simplet5-epoch-5-train-loss-1.9857-val-loss-1.5636/spiece.model' -> '/content/drive/MyDrive/NLP/outputs/simplet5-epoch-5-train-loss-1.9857-val-loss-1.5636/spiece.model'\n",
            "'/content/outputs/simplet5-epoch-5-train-loss-1.9857-val-loss-1.5636/tokenizer.json' -> '/content/drive/MyDrive/NLP/outputs/simplet5-epoch-5-train-loss-1.9857-val-loss-1.5636/tokenizer.json'\n",
            "'/content/outputs/simplet5-epoch-5-train-loss-1.9857-val-loss-1.5636/config.json' -> '/content/drive/MyDrive/NLP/outputs/simplet5-epoch-5-train-loss-1.9857-val-loss-1.5636/config.json'\n",
            "'/content/outputs/simplet5-epoch-5-train-loss-1.9857-val-loss-1.5636/pytorch_model.bin' -> '/content/drive/MyDrive/NLP/outputs/simplet5-epoch-5-train-loss-1.9857-val-loss-1.5636/pytorch_model.bin'\n",
            "'/content/outputs/simplet5-epoch-6-train-loss-1.9057-val-loss-1.5638' -> '/content/drive/MyDrive/NLP/outputs/simplet5-epoch-6-train-loss-1.9057-val-loss-1.5638'\n",
            "'/content/outputs/simplet5-epoch-6-train-loss-1.9057-val-loss-1.5638/tokenizer_config.json' -> '/content/drive/MyDrive/NLP/outputs/simplet5-epoch-6-train-loss-1.9057-val-loss-1.5638/tokenizer_config.json'\n",
            "'/content/outputs/simplet5-epoch-6-train-loss-1.9057-val-loss-1.5638/special_tokens_map.json' -> '/content/drive/MyDrive/NLP/outputs/simplet5-epoch-6-train-loss-1.9057-val-loss-1.5638/special_tokens_map.json'\n",
            "'/content/outputs/simplet5-epoch-6-train-loss-1.9057-val-loss-1.5638/spiece.model' -> '/content/drive/MyDrive/NLP/outputs/simplet5-epoch-6-train-loss-1.9057-val-loss-1.5638/spiece.model'\n",
            "'/content/outputs/simplet5-epoch-6-train-loss-1.9057-val-loss-1.5638/tokenizer.json' -> '/content/drive/MyDrive/NLP/outputs/simplet5-epoch-6-train-loss-1.9057-val-loss-1.5638/tokenizer.json'\n",
            "'/content/outputs/simplet5-epoch-6-train-loss-1.9057-val-loss-1.5638/config.json' -> '/content/drive/MyDrive/NLP/outputs/simplet5-epoch-6-train-loss-1.9057-val-loss-1.5638/config.json'\n",
            "'/content/outputs/simplet5-epoch-6-train-loss-1.9057-val-loss-1.5638/pytorch_model.bin' -> '/content/drive/MyDrive/NLP/outputs/simplet5-epoch-6-train-loss-1.9057-val-loss-1.5638/pytorch_model.bin'\n",
            "'/content/outputs/simplet5-epoch-7-train-loss-1.738-val-loss-1.6247' -> '/content/drive/MyDrive/NLP/outputs/simplet5-epoch-7-train-loss-1.738-val-loss-1.6247'\n",
            "'/content/outputs/simplet5-epoch-7-train-loss-1.738-val-loss-1.6247/tokenizer_config.json' -> '/content/drive/MyDrive/NLP/outputs/simplet5-epoch-7-train-loss-1.738-val-loss-1.6247/tokenizer_config.json'\n",
            "'/content/outputs/simplet5-epoch-7-train-loss-1.738-val-loss-1.6247/special_tokens_map.json' -> '/content/drive/MyDrive/NLP/outputs/simplet5-epoch-7-train-loss-1.738-val-loss-1.6247/special_tokens_map.json'\n",
            "'/content/outputs/simplet5-epoch-7-train-loss-1.738-val-loss-1.6247/spiece.model' -> '/content/drive/MyDrive/NLP/outputs/simplet5-epoch-7-train-loss-1.738-val-loss-1.6247/spiece.model'\n",
            "'/content/outputs/simplet5-epoch-7-train-loss-1.738-val-loss-1.6247/tokenizer.json' -> '/content/drive/MyDrive/NLP/outputs/simplet5-epoch-7-train-loss-1.738-val-loss-1.6247/tokenizer.json'\n",
            "'/content/outputs/simplet5-epoch-7-train-loss-1.738-val-loss-1.6247/config.json' -> '/content/drive/MyDrive/NLP/outputs/simplet5-epoch-7-train-loss-1.738-val-loss-1.6247/config.json'\n",
            "'/content/outputs/simplet5-epoch-7-train-loss-1.738-val-loss-1.6247/pytorch_model.bin' -> '/content/drive/MyDrive/NLP/outputs/simplet5-epoch-7-train-loss-1.738-val-loss-1.6247/pytorch_model.bin'\n",
            "'/content/outputs/simplet5-epoch-8-train-loss-1.6484-val-loss-1.5527' -> '/content/drive/MyDrive/NLP/outputs/simplet5-epoch-8-train-loss-1.6484-val-loss-1.5527'\n",
            "'/content/outputs/simplet5-epoch-8-train-loss-1.6484-val-loss-1.5527/tokenizer_config.json' -> '/content/drive/MyDrive/NLP/outputs/simplet5-epoch-8-train-loss-1.6484-val-loss-1.5527/tokenizer_config.json'\n",
            "'/content/outputs/simplet5-epoch-8-train-loss-1.6484-val-loss-1.5527/special_tokens_map.json' -> '/content/drive/MyDrive/NLP/outputs/simplet5-epoch-8-train-loss-1.6484-val-loss-1.5527/special_tokens_map.json'\n",
            "'/content/outputs/simplet5-epoch-8-train-loss-1.6484-val-loss-1.5527/spiece.model' -> '/content/drive/MyDrive/NLP/outputs/simplet5-epoch-8-train-loss-1.6484-val-loss-1.5527/spiece.model'\n",
            "'/content/outputs/simplet5-epoch-8-train-loss-1.6484-val-loss-1.5527/tokenizer.json' -> '/content/drive/MyDrive/NLP/outputs/simplet5-epoch-8-train-loss-1.6484-val-loss-1.5527/tokenizer.json'\n",
            "'/content/outputs/simplet5-epoch-8-train-loss-1.6484-val-loss-1.5527/config.json' -> '/content/drive/MyDrive/NLP/outputs/simplet5-epoch-8-train-loss-1.6484-val-loss-1.5527/config.json'\n",
            "'/content/outputs/simplet5-epoch-8-train-loss-1.6484-val-loss-1.5527/pytorch_model.bin' -> '/content/drive/MyDrive/NLP/outputs/simplet5-epoch-8-train-loss-1.6484-val-loss-1.5527/pytorch_model.bin'\n",
            "'/content/outputs/simplet5-epoch-9-train-loss-1.4679-val-loss-1.5278' -> '/content/drive/MyDrive/NLP/outputs/simplet5-epoch-9-train-loss-1.4679-val-loss-1.5278'\n",
            "'/content/outputs/simplet5-epoch-9-train-loss-1.4679-val-loss-1.5278/tokenizer_config.json' -> '/content/drive/MyDrive/NLP/outputs/simplet5-epoch-9-train-loss-1.4679-val-loss-1.5278/tokenizer_config.json'\n",
            "'/content/outputs/simplet5-epoch-9-train-loss-1.4679-val-loss-1.5278/special_tokens_map.json' -> '/content/drive/MyDrive/NLP/outputs/simplet5-epoch-9-train-loss-1.4679-val-loss-1.5278/special_tokens_map.json'\n",
            "'/content/outputs/simplet5-epoch-9-train-loss-1.4679-val-loss-1.5278/spiece.model' -> '/content/drive/MyDrive/NLP/outputs/simplet5-epoch-9-train-loss-1.4679-val-loss-1.5278/spiece.model'\n",
            "'/content/outputs/simplet5-epoch-9-train-loss-1.4679-val-loss-1.5278/tokenizer.json' -> '/content/drive/MyDrive/NLP/outputs/simplet5-epoch-9-train-loss-1.4679-val-loss-1.5278/tokenizer.json'\n",
            "'/content/outputs/simplet5-epoch-9-train-loss-1.4679-val-loss-1.5278/config.json' -> '/content/drive/MyDrive/NLP/outputs/simplet5-epoch-9-train-loss-1.4679-val-loss-1.5278/config.json'\n",
            "'/content/outputs/simplet5-epoch-9-train-loss-1.4679-val-loss-1.5278/pytorch_model.bin' -> '/content/drive/MyDrive/NLP/outputs/simplet5-epoch-9-train-loss-1.4679-val-loss-1.5278/pytorch_model.bin'\n",
            "'/content/outputs/simplet5-epoch-10-train-loss-1.3936-val-loss-1.7135' -> '/content/drive/MyDrive/NLP/outputs/simplet5-epoch-10-train-loss-1.3936-val-loss-1.7135'\n",
            "'/content/outputs/simplet5-epoch-10-train-loss-1.3936-val-loss-1.7135/tokenizer_config.json' -> '/content/drive/MyDrive/NLP/outputs/simplet5-epoch-10-train-loss-1.3936-val-loss-1.7135/tokenizer_config.json'\n",
            "'/content/outputs/simplet5-epoch-10-train-loss-1.3936-val-loss-1.7135/special_tokens_map.json' -> '/content/drive/MyDrive/NLP/outputs/simplet5-epoch-10-train-loss-1.3936-val-loss-1.7135/special_tokens_map.json'\n",
            "'/content/outputs/simplet5-epoch-10-train-loss-1.3936-val-loss-1.7135/spiece.model' -> '/content/drive/MyDrive/NLP/outputs/simplet5-epoch-10-train-loss-1.3936-val-loss-1.7135/spiece.model'\n",
            "'/content/outputs/simplet5-epoch-10-train-loss-1.3936-val-loss-1.7135/tokenizer.json' -> '/content/drive/MyDrive/NLP/outputs/simplet5-epoch-10-train-loss-1.3936-val-loss-1.7135/tokenizer.json'\n",
            "'/content/outputs/simplet5-epoch-10-train-loss-1.3936-val-loss-1.7135/config.json' -> '/content/drive/MyDrive/NLP/outputs/simplet5-epoch-10-train-loss-1.3936-val-loss-1.7135/config.json'\n",
            "'/content/outputs/simplet5-epoch-10-train-loss-1.3936-val-loss-1.7135/pytorch_model.bin' -> '/content/drive/MyDrive/NLP/outputs/simplet5-epoch-10-train-loss-1.3936-val-loss-1.7135/pytorch_model.bin'\n",
            "'/content/outputs/simplet5-epoch-11-train-loss-1.381-val-loss-1.6434' -> '/content/drive/MyDrive/NLP/outputs/simplet5-epoch-11-train-loss-1.381-val-loss-1.6434'\n",
            "'/content/outputs/simplet5-epoch-11-train-loss-1.381-val-loss-1.6434/tokenizer_config.json' -> '/content/drive/MyDrive/NLP/outputs/simplet5-epoch-11-train-loss-1.381-val-loss-1.6434/tokenizer_config.json'\n",
            "'/content/outputs/simplet5-epoch-11-train-loss-1.381-val-loss-1.6434/special_tokens_map.json' -> '/content/drive/MyDrive/NLP/outputs/simplet5-epoch-11-train-loss-1.381-val-loss-1.6434/special_tokens_map.json'\n",
            "'/content/outputs/simplet5-epoch-11-train-loss-1.381-val-loss-1.6434/spiece.model' -> '/content/drive/MyDrive/NLP/outputs/simplet5-epoch-11-train-loss-1.381-val-loss-1.6434/spiece.model'\n",
            "'/content/outputs/simplet5-epoch-11-train-loss-1.381-val-loss-1.6434/tokenizer.json' -> '/content/drive/MyDrive/NLP/outputs/simplet5-epoch-11-train-loss-1.381-val-loss-1.6434/tokenizer.json'\n",
            "'/content/outputs/simplet5-epoch-11-train-loss-1.381-val-loss-1.6434/config.json' -> '/content/drive/MyDrive/NLP/outputs/simplet5-epoch-11-train-loss-1.381-val-loss-1.6434/config.json'\n",
            "'/content/outputs/simplet5-epoch-11-train-loss-1.381-val-loss-1.6434/pytorch_model.bin' -> '/content/drive/MyDrive/NLP/outputs/simplet5-epoch-11-train-loss-1.381-val-loss-1.6434/pytorch_model.bin'\n",
            "'/content/outputs/simplet5-epoch-12-train-loss-1.1563-val-loss-1.7029' -> '/content/drive/MyDrive/NLP/outputs/simplet5-epoch-12-train-loss-1.1563-val-loss-1.7029'\n",
            "'/content/outputs/simplet5-epoch-12-train-loss-1.1563-val-loss-1.7029/tokenizer_config.json' -> '/content/drive/MyDrive/NLP/outputs/simplet5-epoch-12-train-loss-1.1563-val-loss-1.7029/tokenizer_config.json'\n",
            "'/content/outputs/simplet5-epoch-12-train-loss-1.1563-val-loss-1.7029/special_tokens_map.json' -> '/content/drive/MyDrive/NLP/outputs/simplet5-epoch-12-train-loss-1.1563-val-loss-1.7029/special_tokens_map.json'\n",
            "'/content/outputs/simplet5-epoch-12-train-loss-1.1563-val-loss-1.7029/spiece.model' -> '/content/drive/MyDrive/NLP/outputs/simplet5-epoch-12-train-loss-1.1563-val-loss-1.7029/spiece.model'\n",
            "'/content/outputs/simplet5-epoch-12-train-loss-1.1563-val-loss-1.7029/tokenizer.json' -> '/content/drive/MyDrive/NLP/outputs/simplet5-epoch-12-train-loss-1.1563-val-loss-1.7029/tokenizer.json'\n",
            "'/content/outputs/simplet5-epoch-12-train-loss-1.1563-val-loss-1.7029/config.json' -> '/content/drive/MyDrive/NLP/outputs/simplet5-epoch-12-train-loss-1.1563-val-loss-1.7029/config.json'\n",
            "'/content/outputs/simplet5-epoch-12-train-loss-1.1563-val-loss-1.7029/pytorch_model.bin' -> '/content/drive/MyDrive/NLP/outputs/simplet5-epoch-12-train-loss-1.1563-val-loss-1.7029/pytorch_model.bin'\n",
            "'/content/outputs/simplet5-epoch-13-train-loss-1.1624-val-loss-1.7445' -> '/content/drive/MyDrive/NLP/outputs/simplet5-epoch-13-train-loss-1.1624-val-loss-1.7445'\n",
            "'/content/outputs/simplet5-epoch-13-train-loss-1.1624-val-loss-1.7445/tokenizer_config.json' -> '/content/drive/MyDrive/NLP/outputs/simplet5-epoch-13-train-loss-1.1624-val-loss-1.7445/tokenizer_config.json'\n",
            "'/content/outputs/simplet5-epoch-13-train-loss-1.1624-val-loss-1.7445/special_tokens_map.json' -> '/content/drive/MyDrive/NLP/outputs/simplet5-epoch-13-train-loss-1.1624-val-loss-1.7445/special_tokens_map.json'\n",
            "'/content/outputs/simplet5-epoch-13-train-loss-1.1624-val-loss-1.7445/spiece.model' -> '/content/drive/MyDrive/NLP/outputs/simplet5-epoch-13-train-loss-1.1624-val-loss-1.7445/spiece.model'\n",
            "'/content/outputs/simplet5-epoch-13-train-loss-1.1624-val-loss-1.7445/tokenizer.json' -> '/content/drive/MyDrive/NLP/outputs/simplet5-epoch-13-train-loss-1.1624-val-loss-1.7445/tokenizer.json'\n",
            "'/content/outputs/simplet5-epoch-13-train-loss-1.1624-val-loss-1.7445/config.json' -> '/content/drive/MyDrive/NLP/outputs/simplet5-epoch-13-train-loss-1.1624-val-loss-1.7445/config.json'\n",
            "'/content/outputs/simplet5-epoch-13-train-loss-1.1624-val-loss-1.7445/pytorch_model.bin' -> '/content/drive/MyDrive/NLP/outputs/simplet5-epoch-13-train-loss-1.1624-val-loss-1.7445/pytorch_model.bin'\n",
            "'/content/outputs/simplet5-epoch-14-train-loss-1.0688-val-loss-1.791' -> '/content/drive/MyDrive/NLP/outputs/simplet5-epoch-14-train-loss-1.0688-val-loss-1.791'\n",
            "'/content/outputs/simplet5-epoch-14-train-loss-1.0688-val-loss-1.791/tokenizer_config.json' -> '/content/drive/MyDrive/NLP/outputs/simplet5-epoch-14-train-loss-1.0688-val-loss-1.791/tokenizer_config.json'\n",
            "'/content/outputs/simplet5-epoch-14-train-loss-1.0688-val-loss-1.791/special_tokens_map.json' -> '/content/drive/MyDrive/NLP/outputs/simplet5-epoch-14-train-loss-1.0688-val-loss-1.791/special_tokens_map.json'\n",
            "'/content/outputs/simplet5-epoch-14-train-loss-1.0688-val-loss-1.791/spiece.model' -> '/content/drive/MyDrive/NLP/outputs/simplet5-epoch-14-train-loss-1.0688-val-loss-1.791/spiece.model'\n",
            "'/content/outputs/simplet5-epoch-14-train-loss-1.0688-val-loss-1.791/tokenizer.json' -> '/content/drive/MyDrive/NLP/outputs/simplet5-epoch-14-train-loss-1.0688-val-loss-1.791/tokenizer.json'\n",
            "'/content/outputs/simplet5-epoch-14-train-loss-1.0688-val-loss-1.791/config.json' -> '/content/drive/MyDrive/NLP/outputs/simplet5-epoch-14-train-loss-1.0688-val-loss-1.791/config.json'\n",
            "'/content/outputs/simplet5-epoch-14-train-loss-1.0688-val-loss-1.791/pytorch_model.bin' -> '/content/drive/MyDrive/NLP/outputs/simplet5-epoch-14-train-loss-1.0688-val-loss-1.791/pytorch_model.bin'\n"
          ]
        }
      ]
    }
  ]
}